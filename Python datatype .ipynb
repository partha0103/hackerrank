{
 "cells": [
  {
   "cell_type": "code",
   "execution_count": null,
   "metadata": {
    "collapsed": false
   },
   "outputs": [
    {
     "name": "stdout",
     "output_type": "stream",
     "text": [
      "2\n",
      "insert 0 2\n",
      "print\n",
      "[2]\n"
     ]
    }
   ],
   "source": [
    "if __name__ == '__main__':\n",
    "        N = int(input())\n",
    "        list  = []\n",
    "        for i in range(N+1):\n",
    "            \n",
    "            s = input().split(' ')\n",
    "\n",
    "            if s[0] == 'insert':\n",
    "                list.insert(int(s[1]),int(s[2]))\n",
    "            elif s[0] == 'print':\n",
    "                print(list)\n",
    "            elif s[0] == 'remove':\n",
    "                if int(s[1]) in list:\n",
    "                    list.remove(int(s[1]))\n",
    "            elif s[0] == 'append':\n",
    "                list.append(int(s[1]))\n",
    "            elif s[0] == 'sort':\n",
    "                list.sort()\n",
    "            elif s[0] == 'pop':\n",
    "                list.pop()\n",
    "            elif s[0] == 'reverse':\n",
    "                list.reverse()"
   ]
  },
  {
   "cell_type": "code",
   "execution_count": null,
   "metadata": {
    "collapsed": true
   },
   "outputs": [],
   "source": []
  }
 ],
 "metadata": {
  "kernelspec": {
   "display_name": "Python 3",
   "language": "python",
   "name": "python3"
  },
  "language_info": {
   "codemirror_mode": {
    "name": "ipython",
    "version": 3
   },
   "file_extension": ".py",
   "mimetype": "text/x-python",
   "name": "python",
   "nbconvert_exporter": "python",
   "pygments_lexer": "ipython3",
   "version": "3.6.0"
  }
 },
 "nbformat": 4,
 "nbformat_minor": 2
}
